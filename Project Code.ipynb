{
 "cells": [
  {
   "cell_type": "markdown",
   "metadata": {
    "collapsed": true
   },
   "source": [
    "# Exploring Hacker News Posts\n",
    "\n",
    "Hacker News is a site where user-submitted stories (or 'posts') are voted and commented on. Hacker News is popular in startup circles and posts that make it to the top of Hacker News' listings can get hundreds of thousands of views as a result.\n",
    "\n",
    "You can find the data set that we will be working with in this project [Here](https://www.kaggle.com/hacker-news/hacker-news-posts).\n",
    "\n",
    "For the purposes of this project, we are interested in posts whose titles begin with either `Ask HN` or `Show HN`. Users submit `Ask HN` posts to ask the community questions. Users submit `Show HN` posts to show the community a project, product or something of interest. \n",
    "\n",
    "Specifically we are going to compare these two types of posts to determine the following:\n",
    "   - Do `Ask HN` or `Show HN` posts receive more comments on average?\n",
    "   - Do posts created at a certain time receive more comments on average?\n",
    "   \n",
    "**Please note that the data set we are working with has been reduced from nearly 300,000 rows to about 20,000 rows by removing all submissions that did not receive any comments. Then random sampling from the remaining submissions was utilized to create the final data set.**\n",
    "\n"
   ]
  },
  {
   "cell_type": "markdown",
   "metadata": {},
   "source": [
    "## Introduction\n",
    "\n",
    "We will start by importing the libraries we need to read the data set and then turn it into a list of lists.\n",
    "\n",
    "In order to analyze our data, we will isolate the header row of the data set. We want to keep a reference, but don't want it included in the data."
   ]
  },
  {
   "cell_type": "code",
   "execution_count": 1,
   "metadata": {},
   "outputs": [
    {
     "name": "stdout",
     "output_type": "stream",
     "text": [
      "['id', 'title', 'url', 'num_points', 'num_comments', 'author', 'created_at']\n",
      "[['12224879', 'Interactive Dynamic Video', 'http://www.interactivedynamicvideo.com/', '386', '52', 'ne0phyte', '8/4/2016 11:52'], ['10975351', 'How to Use Open Source and Shut the Fuck Up at the Same Time', 'http://hueniverse.com/2016/01/26/how-to-use-open-source-and-shut-the-fuck-up-at-the-same-time/', '39', '10', 'josep2', '1/26/2016 19:30'], ['11964716', \"Florida DJs May Face Felony for April Fools' Water Joke\", 'http://www.thewire.com/entertainment/2013/04/florida-djs-april-fools-water-joke/63798/', '2', '1', 'vezycash', '6/23/2016 22:20'], ['11919867', 'Technology ventures: From Idea to Enterprise', 'https://www.amazon.com/Technology-Ventures-Enterprise-Thomas-Byers/dp/0073523429', '3', '1', 'hswarna', '6/17/2016 0:01'], ['10301696', 'Note by Note: The Making of Steinway L1037 (2007)', 'http://www.nytimes.com/2007/11/07/movies/07stein.html?_r=0', '8', '2', 'walterbell', '9/30/2015 4:12']]\n"
     ]
    }
   ],
   "source": [
    "from csv import reader # import reader from csv module\n",
    "opened_file = open('hacker_news.csv') # opens data set\n",
    "read_file = reader(opened_file) # reader applied to opened data set\n",
    "hn = list(read_file) # creates a list of lists from the read data set\n",
    "hn_headers = hn[0] # isolates header row\n",
    "hn = hn[1:] # list of lists containing only data\n",
    "\n",
    "print(hn_headers) # printing header row\n",
    "print(hn[:5]) # printing first 5 rows of the list of lists"
   ]
  },
  {
   "cell_type": "markdown",
   "metadata": {},
   "source": [
    "We see that there are a few collumns in the header row that will be useful in our analysis. We will print those columns for later reference (Title, Number of Comments, and Date the Post was Created):"
   ]
  },
  {
   "cell_type": "code",
   "execution_count": 2,
   "metadata": {},
   "outputs": [
    {
     "name": "stdout",
     "output_type": "stream",
     "text": [
      "title\n",
      "num_comments\n",
      "created_at\n"
     ]
    }
   ],
   "source": [
    "print(hn_headers[1]) # prints title collumn from header\n",
    "print(hn_headers[4]) # prints number of comments collumn from header\n",
    "print(hn_headers[-1]) # prints date the post was created from the header"
   ]
  },
  {
   "cell_type": "markdown",
   "metadata": {},
   "source": [
    "## Isolating `Ask HN` and `Show HN` Posts\n",
    "\n",
    "We will seperate the posts beginning with `Ask HN` and `Show HN` into two different lists. We will need to take letter case variation into account when we write our code. By seperating the data into seperate lists we will be making it more efficient to conduct our analysis."
   ]
  },
  {
   "cell_type": "code",
   "execution_count": 3,
   "metadata": {},
   "outputs": [
    {
     "name": "stdout",
     "output_type": "stream",
     "text": [
      "1744\n",
      "1162\n",
      "17194\n"
     ]
    }
   ],
   "source": [
    "ask_posts = [] # establishes list for ask hn posts\n",
    "show_posts = [] # establishes list for show hn posts\n",
    "other_posts = [] # establishes list for other posts \n",
    "\n",
    "for post in hn: # loop through data set\n",
    "    title = post[1] # assigns title collumn to variable\n",
    "    if title.lower().startswith('ask hn'):\n",
    "        ask_posts.append(post) # adds post to ask_posts list if it begins with ask hn\n",
    "    elif title.lower().startswith('show hn'):\n",
    "        show_posts.append(post)  # adds post to ask_posts list if it begins with show hn\n",
    "    else:\n",
    "        other_posts.append(post) # adds all other posts to other_posts list\n",
    "\n",
    "# print lengths of created lists        \n",
    "print(len(ask_posts))\n",
    "print(len(show_posts))\n",
    "print(len(other_posts))"
   ]
  },
  {
   "cell_type": "markdown",
   "metadata": {},
   "source": [
    "## Calculating the Average Number of Comments on `Ask HN` and `Show HN` Posts\n",
    "\n",
    "Now that we have seperate lists for each post type, we can determine the average number of comments each receives."
   ]
  },
  {
   "cell_type": "code",
   "execution_count": 4,
   "metadata": {},
   "outputs": [
    {
     "name": "stdout",
     "output_type": "stream",
     "text": [
      "Average # of comments ask posts receive: 14.038417431192661\n",
      "Average # of comments show posts receive: 10.31669535283993\n"
     ]
    }
   ],
   "source": [
    "total_ask_comments = 0 # initiates ask post comment counter\n",
    "\n",
    "for row in ask_posts: # loops through ask posts data\n",
    "    n_ask_comments = int(row[4]) # assigns number of comments collumn to variable\n",
    "    total_ask_comments = total_ask_comments + n_ask_comments # adds number of comments for a row to counter\n",
    "avg_ask_comments = total_ask_comments / len(ask_posts) # calculates average number of comments for ask posts\n",
    "print('Average # of comments ask posts receive:', avg_ask_comments) # prints result\n",
    "\n",
    "\n",
    "total_show_comments = 0 # initiates show post comment counter\n",
    "\n",
    "for row in show_posts: # loops through show posts data\n",
    "    n_show_comments = int(row[4]) # assigns number of comments collumn to variable\n",
    "    total_show_comments = total_show_comments + n_show_comments # adds number of comments for a row to counter\n",
    "avg_show_comments = total_show_comments / len(show_posts) # calculates average number of comments for show posts\n",
    "print('Average # of comments show posts receive:', avg_show_comments) # prints result"
   ]
  },
  {
   "cell_type": "markdown",
   "metadata": {},
   "source": [
    "It appears that on average `Ask HN` posts receive about 14 comments, whereas `Show HN` posts receive about 10. We will turn the focus of our analysis to `Ask HN` posts as they receive more comments on average."
   ]
  },
  {
   "cell_type": "markdown",
   "metadata": {},
   "source": [
    "## Determining the Amount of Ask Posts and Comments from Hour Created\n",
    "\n",
    "Next we will want to determine if ask posts created at certain times are more likely to receive comments. We will do this by:\n",
    "   - Calculating the amount of ask posts created in each hour of the day, along with the number of comments\n",
    "   - Calculate the average number of comments ask posts receive by hour created."
   ]
  },
  {
   "cell_type": "code",
   "execution_count": 8,
   "metadata": {},
   "outputs": [
    {
     "data": {
      "text/plain": [
       "{'09': 251,\n",
       " '13': 1253,\n",
       " '10': 793,\n",
       " '14': 1416,\n",
       " '16': 1814,\n",
       " '23': 543,\n",
       " '12': 687,\n",
       " '17': 1146,\n",
       " '15': 4477,\n",
       " '21': 1745,\n",
       " '20': 1722,\n",
       " '02': 1381,\n",
       " '18': 1439,\n",
       " '03': 421,\n",
       " '05': 464,\n",
       " '19': 1188,\n",
       " '01': 683,\n",
       " '22': 479,\n",
       " '08': 492,\n",
       " '04': 337,\n",
       " '00': 447,\n",
       " '06': 397,\n",
       " '07': 267,\n",
       " '11': 641}"
      ]
     },
     "execution_count": 8,
     "metadata": {},
     "output_type": "execute_result"
    }
   ],
   "source": [
    "import datetime as dt # import datetime module\n",
    "\n",
    "result_list = [] # establishes empty list\n",
    "for row in ask_posts: # loops through ask posts data\n",
    "    result_list.append([row[6], int(row[4])]) # appends two elements to result list as a list\n",
    "    # added elements are created at and number of comments collumn\n",
    "    \n",
    "counts_by_hour = {} # establishes empty dictionary to count posts\n",
    "comments_by_hour = {} # establishes empty dictionary to count comments\n",
    "date_format = \"%m/%d/%Y %H:%M\" # establishes time object format to match created at collumn\n",
    "for row in result_list: # loops though result list created above\n",
    "    date = row[0] # assigns created at collumn to variable\n",
    "    comments = row[1] # assigned number of comments collumn to variable\n",
    "    time = dt.datetime.strptime(date, date_format).strftime('%H') # parses the date of created at collumn\n",
    "    # creates datetime object we are able to isolate the hour from\n",
    "    if time not in counts_by_hour: # evaluates when given hour isn't a key in counts_by_hour dictionary\n",
    "        counts_by_hour[time] = 1 # establishes key for given hour in dictionary\n",
    "        comments_by_hour[time] = comments # establishes key for given hour in comments_by_hour dictionary\n",
    "    else:\n",
    "        counts_by_hour[time] += 1 # adds 1 to key value in counts_by_hour dictionary\n",
    "        comments_by_hour[time] += comments # adds number of comments to key value for comments_by_hour dictionary \n",
    "\n",
    "comments_by_hour\n",
    "    "
   ]
  },
  {
   "cell_type": "markdown",
   "metadata": {},
   "source": [
    "## Calculating the Average Number of Comments for `Ask HN` Posts by Hour\n",
    "\n",
    "We want to find out if posts created at a certain time of the day receive more comments on average than other times of the day. We need to calculate the average number of comments for `Ask HN` posts by Hour to accomplish this goal."
   ]
  },
  {
   "cell_type": "code",
   "execution_count": 9,
   "metadata": {},
   "outputs": [
    {
     "data": {
      "text/plain": [
       "[['09', 5.5777777777777775],\n",
       " ['13', 14.741176470588234],\n",
       " ['10', 13.440677966101696],\n",
       " ['14', 13.233644859813085],\n",
       " ['16', 16.796296296296298],\n",
       " ['23', 7.985294117647059],\n",
       " ['12', 9.41095890410959],\n",
       " ['17', 11.46],\n",
       " ['15', 38.5948275862069],\n",
       " ['21', 16.009174311926607],\n",
       " ['20', 21.525],\n",
       " ['02', 23.810344827586206],\n",
       " ['18', 13.20183486238532],\n",
       " ['03', 7.796296296296297],\n",
       " ['05', 10.08695652173913],\n",
       " ['19', 10.8],\n",
       " ['01', 11.383333333333333],\n",
       " ['22', 6.746478873239437],\n",
       " ['08', 10.25],\n",
       " ['04', 7.170212765957447],\n",
       " ['00', 8.127272727272727],\n",
       " ['06', 9.022727272727273],\n",
       " ['07', 7.852941176470588],\n",
       " ['11', 11.051724137931034]]"
      ]
     },
     "execution_count": 9,
     "metadata": {},
     "output_type": "execute_result"
    }
   ],
   "source": [
    "avg_by_hour = [] # initiates empty list\n",
    "\n",
    "for key in comments_by_hour: # loops through comments by hour dictionary\n",
    "    avg_by_hour.append([key, (comments_by_hour[key] / counts_by_hour[key])])\n",
    "    # appends row to empty list containing the hour and the calculated average number of comments\n",
    "\n",
    "avg_by_hour # prints created list\n",
    "\n"
   ]
  },
  {
   "cell_type": "markdown",
   "metadata": {},
   "source": [
    "## Sorting and Analyzing the `avg_by_hour` list of lists\n",
    "\n",
    "Next, we will switch the values in each row so that the average number of comments is displayed before the hour since our conclusions will be based on the average number of comments.\n",
    "\n",
    "We will then want to sort the list of lists that we created into descending order so that the data displayed is more readable and so that the highest values are easily identifiable at the beginning of the list of lists. \n",
    "\n",
    "Lastly, we will display the five rows with the highest average number of comments value to identify which times of the day receive the most comments on average."
   ]
  },
  {
   "cell_type": "code",
   "execution_count": 10,
   "metadata": {},
   "outputs": [
    {
     "data": {
      "text/plain": [
       "[[5.5777777777777775, '09'],\n",
       " [14.741176470588234, '13'],\n",
       " [13.440677966101696, '10'],\n",
       " [13.233644859813085, '14'],\n",
       " [16.796296296296298, '16'],\n",
       " [7.985294117647059, '23'],\n",
       " [9.41095890410959, '12'],\n",
       " [11.46, '17'],\n",
       " [38.5948275862069, '15'],\n",
       " [16.009174311926607, '21'],\n",
       " [21.525, '20'],\n",
       " [23.810344827586206, '02'],\n",
       " [13.20183486238532, '18'],\n",
       " [7.796296296296297, '03'],\n",
       " [10.08695652173913, '05'],\n",
       " [10.8, '19'],\n",
       " [11.383333333333333, '01'],\n",
       " [6.746478873239437, '22'],\n",
       " [10.25, '08'],\n",
       " [7.170212765957447, '04'],\n",
       " [8.127272727272727, '00'],\n",
       " [9.022727272727273, '06'],\n",
       " [7.852941176470588, '07'],\n",
       " [11.051724137931034, '11']]"
      ]
     },
     "execution_count": 10,
     "metadata": {},
     "output_type": "execute_result"
    }
   ],
   "source": [
    "swap_avg_by_hour = [] # initiates empty list\n",
    "\n",
    "for row in avg_by_hour: # loops through avg by hour list of lists\n",
    "    hour = row[0] # assigns hour to variable\n",
    "    avg_comments = row[1] # assigns average number of comments to variable\n",
    "    swap_avg_by_hour.append([avg_comments, hour]) # appends same row with flipped values to new list\n",
    "\n",
    "swap_avg_by_hour # prints created list"
   ]
  },
  {
   "cell_type": "code",
   "execution_count": 13,
   "metadata": {},
   "outputs": [
    {
     "data": {
      "text/plain": [
       "[[38.5948275862069, '15'],\n",
       " [23.810344827586206, '02'],\n",
       " [21.525, '20'],\n",
       " [16.796296296296298, '16'],\n",
       " [16.009174311926607, '21'],\n",
       " [14.741176470588234, '13'],\n",
       " [13.440677966101696, '10'],\n",
       " [13.233644859813085, '14'],\n",
       " [13.20183486238532, '18'],\n",
       " [11.46, '17'],\n",
       " [11.383333333333333, '01'],\n",
       " [11.051724137931034, '11'],\n",
       " [10.8, '19'],\n",
       " [10.25, '08'],\n",
       " [10.08695652173913, '05'],\n",
       " [9.41095890410959, '12'],\n",
       " [9.022727272727273, '06'],\n",
       " [8.127272727272727, '00'],\n",
       " [7.985294117647059, '23'],\n",
       " [7.852941176470588, '07'],\n",
       " [7.796296296296297, '03'],\n",
       " [7.170212765957447, '04'],\n",
       " [6.746478873239437, '22'],\n",
       " [5.5777777777777775, '09']]"
      ]
     },
     "execution_count": 13,
     "metadata": {},
     "output_type": "execute_result"
    }
   ],
   "source": [
    "sorted_swap = sorted(swap_avg_by_hour, reverse = True) # sorts swap avg by hour list of lists in descending order\n",
    "sorted_swap # prints sorted list of lists"
   ]
  },
  {
   "cell_type": "code",
   "execution_count": 15,
   "metadata": {},
   "outputs": [
    {
     "name": "stdout",
     "output_type": "stream",
     "text": [
      "Top 5 Hours for Ask Posts Comments\n",
      "15:00: 38.59 average comments per post\n",
      "02:00: 23.81 average comments per post\n",
      "20:00: 21.52 average comments per post\n",
      "16:00: 16.80 average comments per post\n",
      "21:00: 16.01 average comments per post\n"
     ]
    }
   ],
   "source": [
    "print('Top 5 Hours for Ask Posts Comments') # prints text in string\n",
    "for row in sorted_swap[:5]: # loops through first five rows of sorted list of lists\n",
    "    avg_comments = row[0] # assigns average number of comments to variable\n",
    "    hour = row[1] # assigns hour to variable\n",
    "    print(\n",
    "        '{}: {:.2f} average comments per post'.format(\n",
    "            dt.datetime.strptime(hour, '%H').strftime('%H:%M'), avg_comments)\n",
    "    )\n",
    "    # prints text in string\n",
    "    # {}s set format\n",
    "    # uses strptime constructor to return a datetime object\n",
    "    # uses strftime method to convert to specify format of the returned datetime object to put in first {}\n",
    "    # references avg comments to insert into second {} with 2 decimal places"
   ]
  },
  {
   "cell_type": "markdown",
   "metadata": {},
   "source": [
    "The top hour in terms of average number of comments is 15:00 with 38.59 comments. The difference between the top hour and the runner up is larger than the difference between the runner up and the fifth ranked hour. The top hour receives 14.78 or 62.0747% more comments on average than the runner up hour. The runner up hour receives 7.8 or 48.7196% more comments on average than the fifth ranked hour.\n",
    "\n",
    "**Please note that according to the data set [documentation](https://www.kaggle.com/hacker-news/hacker-news-posts/home) the timezone being used is Eastern Time in the United States. We could write 15:00 as 3:00 PM EST, and this also helps us to know what the best times to post are in different time zones.**"
   ]
  },
  {
   "cell_type": "markdown",
   "metadata": {},
   "source": [
    "## Conclusion\n",
    "\n",
    "In this project, we analyzed `Ask HN` posts to determine which type of post received the most comments on average. We determined that `Ask HN` receive more on average and used that data to analyze which times of the day received the most comments on average. We could that 15:00 (3:00 PM EST) was the time of the day that received the most comments on average, by quite a bit. We would reccomend that when posting on Hacker News it would be best to utilize `Ask HN` posts and to post between 3:00 PM EST and 4:00 PM EST.\n",
    "\n",
    "**Please note that the data set that we analyzed excludes posts that did not have any comments. Additionally a random sample was taken out of the remaining posts to make the data more manageable. Taking that background information into account, it would be more accurate for us to conclude that of the posts that received comments, `Ask HN` posts received more comments on average than `Show HN` posts, and `Ask HN` posts created during the 15:00 hour (EST) of the day received the most comments on average.**"
   ]
  },
  {
   "cell_type": "code",
   "execution_count": null,
   "metadata": {},
   "outputs": [],
   "source": []
  }
 ],
 "metadata": {
  "kernelspec": {
   "display_name": "Python 3",
   "language": "python",
   "name": "python3"
  },
  "language_info": {
   "codemirror_mode": {
    "name": "ipython",
    "version": 3
   },
   "file_extension": ".py",
   "mimetype": "text/x-python",
   "name": "python",
   "nbconvert_exporter": "python",
   "pygments_lexer": "ipython3",
   "version": "3.8.2"
  }
 },
 "nbformat": 4,
 "nbformat_minor": 2
}
